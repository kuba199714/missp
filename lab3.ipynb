{
  "nbformat": 4,
  "nbformat_minor": 0,
  "metadata": {
    "colab": {
      "name": "lab3.ipynb",
      "provenance": []
    },
    "kernelspec": {
      "name": "python3",
      "display_name": "Python 3"
    }
  },
  "cells": [
    {
      "cell_type": "code",
      "metadata": {
        "id": "VjG8L9AVSMUb"
      },
      "source": [
        "!pip install pulp\r\n",
        "!sudo apt-get install coinor-cbc glpk-utils coinor-clp"
      ],
      "execution_count": null,
      "outputs": []
    },
    {
      "cell_type": "markdown",
      "metadata": {
        "id": "z8eE8gBGTns7"
      },
      "source": [
        "**Zadanie**\r\n",
        "\r\n",
        "Zaprojektowanie karmy dla kota spełniającej określone założenia\r\n",
        "\r\n",
        "Zawartość:\r\n",
        "\r\n",
        "| Nazwa      | zawartość ug/100g |\r\n",
        "|------------|-------------------|\r\n",
        "| chicken    | 0.3               |\r\n",
        "| beef       | 2.6               |\r\n",
        "| mutton     | 2.6               |\r\n",
        "| rice       | 0                 |\r\n",
        "| wheat bran | 0                 |\r\n",
        "| gel        | 0                 |\r\n",
        "| sardines   | 8.9               |\r\n",
        "\r\n",
        "Kot ma zjeść minimum 0.24 ug na kilogram masy więc około\r\n",
        "0.8 ug dziennie\r\n",
        "\r\n"
      ]
    },
    {
      "cell_type": "code",
      "metadata": {
        "colab": {
          "base_uri": "https://localhost:8080/"
        },
        "id": "goPlhryZTUgJ",
        "outputId": "77a29868-e223-401e-f359-895d3619b5e8"
      },
      "source": [
        "from pulp import *\r\n",
        "prob = LpProblem(\"The Whiskas Problem\", LpMinimize)\r\n",
        "Ingredients = ['CHICKEN', 'BEEF', 'MUTTON', 'RICE', 'WHEAT', 'GEL','SARDINES']\r\n",
        "costs = {'CHICKEN': 0.013, \r\n",
        "         'BEEF': 0.008, \r\n",
        "         'MUTTON': 0.010, \r\n",
        "         'RICE': 0.002, \r\n",
        "         'WHEAT': 0.005, \r\n",
        "         'GEL': 0.001,\r\n",
        "         'SARDINES' : 0.005}\r\n",
        "vitaminBPercent = {'CHICKEN': 0.3e-8,\r\n",
        "                  'BEEF':2.6e-8,\r\n",
        "                  'MUTTON':2.6e-8,\r\n",
        "                  'RICE':0.000,\r\n",
        "                  'WHEAT':0.000,\r\n",
        "                  'GEL':0.000,\r\n",
        "                  'SARDINES':8.9e-8\r\n",
        "                  }\r\n",
        "\r\n",
        "\r\n",
        "proteinPercent = {'CHICKEN': 0.100, \r\n",
        "                  'BEEF': 0.200, \r\n",
        "                  'MUTTON': 0.150, \r\n",
        "                  'RICE': 0.000, \r\n",
        "                  'WHEAT': 0.040, \r\n",
        "                  'GEL': 0.000,\r\n",
        "                  'SARDINES' : 0.005}\r\n",
        "\r\n",
        "\r\n",
        "fatPercent = {'CHICKEN': 0.080, \r\n",
        "              'BEEF': 0.100, \r\n",
        "              'MUTTON': 0.110, \r\n",
        "              'RICE': 0.010, \r\n",
        "              'WHEAT': 0.010, \r\n",
        "              'GEL': 0.000,\r\n",
        "              'SARDINES' :0.11}\r\n",
        "\r\n",
        "fibrePercent = {'CHICKEN': 0.001, \r\n",
        "                'BEEF': 0.005, \r\n",
        "                'MUTTON': 0.003, \r\n",
        "                'RICE': 0.100, \r\n",
        "                'WHEAT': 0.150, \r\n",
        "                'GEL': 0.000,\r\n",
        "                'SARDINES' : 0.000}\r\n",
        "\r\n",
        "\r\n",
        "saltPercent = {'CHICKEN': 0.002, \r\n",
        "               'BEEF': 0.005, \r\n",
        "               'MUTTON': 0.007, \r\n",
        "               'RICE': 0.002, \r\n",
        "               'WHEAT': 0.008, \r\n",
        "               'GEL': 0.000,\r\n",
        "               'SARDINES' : 0.006}\r\n",
        "ingredient_vars = LpVariable.dicts(\"Ingr\",Ingredients,0,100)\r\n",
        "prob += lpSum([costs[i]*ingredient_vars[i] for i in Ingredients]), \"Total Cost of Ingredients per can\"\r\n",
        "prob += lpSum([vitaminBPercent[i] * ingredient_vars[i] for i in Ingredients]) >= 0.24e-8, \"VitaminBRequirement\"\r\n",
        "prob += lpSum([ingredient_vars[i] for i in Ingredients]) == 100, \"PercentagesSum\"\r\n",
        "prob += lpSum([proteinPercent[i] * ingredient_vars[i] for i in Ingredients]) >= 8.0, \"ProteinRequirement\"\r\n",
        "prob += lpSum([fatPercent[i] * ingredient_vars[i] for i in Ingredients]) >= 6.0, \"FatRequirement\"\r\n",
        "prob += lpSum([fibrePercent[i] * ingredient_vars[i] for i in Ingredients]) <= 2.0, \"FibreRequirement\"\r\n",
        "prob += lpSum([saltPercent[i] * ingredient_vars[i] for i in Ingredients]) <= 0.4, \"SaltRequirement\"\r\n",
        "\r\n",
        "prob.solve()\r\n",
        "\r\n",
        "Nazwa = []\r\n",
        "Zawartosc = []\r\n",
        "\r\n",
        "\r\n",
        "for k in range(7):\r\n",
        "  Zawartosc.append(str(value(prob.variables()[k])))\r\n",
        "  Nazwa.append(Ingredients[k])\r\n",
        "\r\n",
        "Produkt =\"%, \".join([\":\".join((str(a), str(b))) for a,b in zip(sorted(Nazwa),Zawartosc)])\r\n",
        "\r\n",
        "\r\n",
        "print(\"Końcowy produkt będzie kosztować \"+ str(value(prob.objective))+ \"$\"+ \" Będzie miał w składzie:\"+ str(Produkt) ) \r\n"
      ],
      "execution_count": 2,
      "outputs": [
        {
          "output_type": "stream",
          "text": [
            "Końcowy produkt będzie kosztować 0.451162792$ Będzie miał w składzie:BEEF:39.534884%, CHICKEN:0.0%, GEL:41.860465%, MUTTON:0.0%, RICE:0.0%, SARDINES:18.604651%, WHEAT:0.0\n"
          ],
          "name": "stdout"
        },
        {
          "output_type": "stream",
          "text": [
            "/usr/local/lib/python3.6/dist-packages/pulp/pulp.py:1199: UserWarning: Spaces are not permitted in the name. Converted to '_'\n",
            "  warnings.warn(\"Spaces are not permitted in the name. Converted to '_'\")\n"
          ],
          "name": "stderr"
        }
      ]
    }
  ]
}