{
  "nbformat": 4,
  "nbformat_minor": 0,
  "metadata": {
    "kernelspec": {
      "display_name": "Python 3",
      "language": "python",
      "name": "python3"
    },
    "language_info": {
      "codemirror_mode": {
        "name": "ipython",
        "version": 3
      },
      "file_extension": ".py",
      "mimetype": "text/x-python",
      "name": "python",
      "nbconvert_exporter": "python",
      "pygments_lexer": "ipython3",
      "version": "3.7.6"
    },
    "colab": {
      "name": "lab5.ipynb",
      "provenance": [],
      "collapsed_sections": []
    }
  },
  "cells": [
    {
      "cell_type": "code",
      "metadata": {
        "colab": {
          "base_uri": "https://localhost:8080/"
        },
        "id": "g9ONX2L7d4bm",
        "outputId": "cd8a7abc-954a-4653-a481-6a7839cb87c5"
      },
      "source": [
        "!pip install pulp\r\n",
        "import pulp"
      ],
      "execution_count": 5,
      "outputs": [
        {
          "output_type": "stream",
          "text": [
            "Collecting pulp\n",
            "\u001b[?25l  Downloading https://files.pythonhosted.org/packages/14/c4/0eec14a0123209c261de6ff154ef3be5cad3fd557c084f468356662e0585/PuLP-2.4-py3-none-any.whl (40.6MB)\n",
            "\u001b[K     |████████████████████████████████| 40.6MB 106kB/s \n",
            "\u001b[?25hCollecting amply>=0.1.2\n",
            "  Downloading https://files.pythonhosted.org/packages/f3/c5/dfa09dd2595a2ab2ab4e6fa7bebef9565812722e1980d04b0edce5032066/amply-0.1.4-py3-none-any.whl\n",
            "Requirement already satisfied: docutils>=0.3 in /usr/local/lib/python3.6/dist-packages (from amply>=0.1.2->pulp) (0.16)\n",
            "Requirement already satisfied: pyparsing in /usr/local/lib/python3.6/dist-packages (from amply>=0.1.2->pulp) (2.4.7)\n",
            "Installing collected packages: amply, pulp\n",
            "Successfully installed amply-0.1.4 pulp-2.4\n"
          ],
          "name": "stdout"
        }
      ]
    },
    {
      "cell_type": "markdown",
      "metadata": {
        "id": "VHro0QItb-_1"
      },
      "source": [
        "**Zadanie 1**\r\n",
        "Minimalizacja strat cieplnych mostka\r\n",
        "\r\n",
        "W zadaniu należy dobrać odpowiednie wartości rezystancji w celu zmianimalizowania strat cieplnych. \r\n",
        "\r\n",
        "Podane zostały ograniczenia dotyczące maksymalnych prądów w gałęziach mostka:\r\n",
        "\r\n",
        "| Rezystor     | Napięcie[v] |prąd[mA]|\r\n",
        "|------------|-------------------||\r\n",
        "| R1    | 6              |4|\r\n",
        "|R2|10|2|\r\n",
        "| R3     | 4              | 2|\r\n",
        "| R4       | 7                |2|\r\n",
        "| R5 | 3                 |4|\r\n",
        "\r\n",
        "Dla każdego rezystora odchyłka od podanej wartości może wynosić dI = 1mA\r\n"
      ]
    },
    {
      "cell_type": "code",
      "metadata": {
        "id": "jBY9j6sP5jlF",
        "colab": {
          "base_uri": "https://localhost:8080/"
        },
        "outputId": "9115d3ce-ea65-41fa-fc68-b9ece733e3c9"
      },
      "source": [
        "# Problem minimalizacji strat cieplnych mostka\n",
        "\n",
        "from pulp import *\n",
        "import numpy as np\n",
        "\n",
        "currents = ['i1','i2','i3','i4','i5']\n",
        "\n",
        "#[V]\n",
        "voltages = {'i1': 6.0, \n",
        "            'i2':10.0,\n",
        "            'i3': 4.0,\n",
        "            'i4': 7.0,\n",
        "            'i5': 3.0 }\n",
        "\n",
        "#[mA]\n",
        "avCurrents = {'i1' : 4.0,\n",
        "              'i2' : 2.0,\n",
        "              'i3' : 2.0,\n",
        "              'i4' : 2.0,\n",
        "              'i5' : 4.0}\n",
        "\n",
        "#[mA]\n",
        "deltas = { 'i1': 1.0,\n",
        "           'i2': 1.0,\n",
        "           'i3': 1.0,\n",
        "           'i4': 1.0,\n",
        "           'i5': 1.0}\n",
        "\n",
        "prob = LpProblem(\"The Bridge Problem\", LpMinimize)\n",
        "\n",
        "i_vars = LpVariable.dicts(\"currents\",currents,0)\n",
        "\n",
        "prob += lpSum([voltages[i]*i_vars[i] for i in currents])\n",
        "\n",
        "prob += avCurrents['i1'] + deltas['i1']>= i_vars['i1'] >= avCurrents['i1'] - deltas['i1']\n",
        "#prob += i_vars['i1'] <= avCurrents['i1'] + deltas['i1']\n",
        "\n",
        "prob += i_vars['i2'] >= avCurrents['i2'] - deltas['i2']\n",
        "prob += i_vars['i2'] <= avCurrents['i2'] + deltas['i2']\n",
        "\n",
        "prob += i_vars['i3'] >= avCurrents['i3'] - deltas['i3']\n",
        "prob += i_vars['i3'] <= avCurrents['i3'] + deltas['i3']\n",
        "\n",
        "prob += i_vars['i4'] >= avCurrents['i4'] - deltas['i4']\n",
        "prob += i_vars['i4'] <= avCurrents['i4'] + deltas['i4']\n",
        "\n",
        "prob += i_vars['i5'] >= avCurrents['i5'] - deltas['i5']\n",
        "prob += i_vars['i5'] <= avCurrents['i5'] + deltas['i5']\n",
        "\n",
        "prob.writeLP(\"BridgeModel.lp\")\n",
        "\n",
        "prob.solve()\n",
        "print(str(prob.objective))\n",
        "results = [];\n",
        "temp_voltages = []\n",
        "\n",
        "for v in prob.variables():\n",
        "    results.append(v.varValue)\n",
        "\n",
        "for key, value in voltages.items():\n",
        "     temp_voltages.append(value)    \n",
        "    \n",
        "U = np.array(temp_voltages)\n",
        "    \n",
        "I = np.array(results)\n",
        "\n",
        "R = U/I\n",
        "\n",
        "resistors = ['R1','R2','R3','R4','R5']\n",
        "res_values = R.tolist()\n",
        "\n",
        "print(\"Minimalna wartosc strat mocy:\")\n",
        "\n",
        "print(str(prob.objective.value()) + 'mW\\n')\n",
        "\n",
        "print('Wartosci rezystancji, przy ktorych minimalizowane sa straty mocy:')\n",
        "\n",
        "for i in range(len(resistors)):\n",
        "    print(resistors[i]+ ' = ' + str(res_values[i]) + ' kOhm')\n"
      ],
      "execution_count": 6,
      "outputs": [
        {
          "output_type": "stream",
          "text": [
            "6.0*currents_i1 + 10.0*currents_i2 + 4.0*currents_i3 + 7.0*currents_i4 + 3.0*currents_i5\n",
            "Minimalna wartosc strat mocy:\n",
            "48.0mW\n",
            "\n",
            "Wartosci rezystancji, przy ktorych minimalizowane sa straty mocy:\n",
            "R1 = 2.0 kOhm\n",
            "R2 = 10.0 kOhm\n",
            "R3 = 4.0 kOhm\n",
            "R4 = 7.0 kOhm\n",
            "R5 = 1.0 kOhm\n"
          ],
          "name": "stdout"
        },
        {
          "output_type": "stream",
          "text": [
            "/usr/local/lib/python3.6/dist-packages/pulp/pulp.py:1199: UserWarning: Spaces are not permitted in the name. Converted to '_'\n",
            "  warnings.warn(\"Spaces are not permitted in the name. Converted to '_'\")\n"
          ],
          "name": "stderr"
        }
      ]
    },
    {
      "cell_type": "markdown",
      "metadata": {
        "id": "MT8wnFyaeS4n"
      },
      "source": [
        "**Zadanie 2**\r\n",
        "\r\n",
        "Maksymalizacja prądu dwójnika. \r\n",
        "W tym zadaniu należy wyznaczyć jaki maksymalny prąd może popłynąć w układzie\r\n",
        "mając podane wartości rezystancji oraz maksymalne prądu, które mogą popłynąć \r\n",
        "w danej gałęzi.\r\n",
        "\r\n",
        "**Dane :** \r\n",
        "\r\n",
        "|     | R |I |     \r\n",
        "|------------|-------------------|----------\r\n",
        "| R1    |   8      | 2 |\r\n",
        "|   R2       |    6               |   3  \r\n",
        "|   R3      |    4               |   4  \r\n",
        "|   R4      |    10|2\r\n",
        "|R5|8|2\r\n",
        "\r\n"
      ]
    },
    {
      "cell_type": "code",
      "metadata": {
        "id": "rhsa0KXT5jlu",
        "outputId": "e51f965e-5d49-4ba2-bb92-faea2351da58"
      },
      "source": [
        "# Problem maksymalizacji pradu dwojnika\n",
        "\n",
        "from pulp import *\n",
        "import numpy as np\n",
        "\n",
        "currents = ['i1','i2','i3','i4','i5']\n",
        "\n",
        "#[Ohm]\n",
        "resistances = {'i1': 8.0, \n",
        "               'i2': 6.0,\n",
        "               'i3': 4.0,\n",
        "               'i4':10.0,\n",
        "               'i5': 8.0}\n",
        "\n",
        "#[A]\n",
        "currMaxes = {'i1': 2.0, \n",
        "             'i2': 3.0,\n",
        "             'i3': 4.0,\n",
        "             'i4': 2.0,\n",
        "             'i5': 2.0}\n",
        "\n",
        "prob = LpProblem(\"The Current Problem\", LpMaximize)\n",
        "\n",
        "i_vars = LpVariable.dicts(\"currents\",currents,0)\n",
        "\n",
        "prob += i_vars['i1'] + i_vars['i2']\n",
        "\n",
        "prob += i_vars['i1'] <= currMaxes['i1']\n",
        "prob += i_vars['i2'] <= currMaxes['i2']\n",
        "prob += i_vars['i3'] <= currMaxes['i3']\n",
        "prob += i_vars['i4'] <= currMaxes['i4']\n",
        "prob += i_vars['i5'] <= currMaxes['i5']\n",
        "\n",
        "prob += i_vars['i1'] + i_vars['i2'] == i_vars['i3']\n",
        "prob += i_vars['i4'] + i_vars['i5'] == i_vars['i3']\n",
        "prob += i_vars['i1'] + i_vars['i2'] == i_vars['i4'] + i_vars['i5']\n",
        "\n",
        "prob += i_vars['i1'] * resistances['i1'] == i_vars['i2'] * resistances['i2']\n",
        "prob += i_vars['i4'] * resistances['i4'] == i_vars['i5'] * resistances['i5']\n",
        "\n",
        "prob.writeLP(\"CurrentModel.lp\")\n",
        "\n",
        "prob.solve()\n",
        "\n",
        "results = [];\n",
        "\n",
        "for v in prob.variables():\n",
        "    results.append(v.varValue)\n",
        "\n",
        "print('Maksymalny prad dwojnika:')\n",
        "\n",
        "print(str(prob.objective.value()) + 'A\\n')\n",
        "\n",
        "print('Wartosci pradow galezi, przy ktorych maksymalizowany jest prad dwojnika:')\n",
        "\n",
        "for i in range(len(results)):\n",
        "    print(currents[i] + ' = ' + str(results[i])  + ' A')\n"
      ],
      "execution_count": null,
      "outputs": [
        {
          "output_type": "stream",
          "text": [
            "Maksymalny prad dwojnika:\n",
            "3.6A\n",
            "\n",
            "Wartosci pradow galezi, przy ktorych maksymalizowany jest prad dwojnika:\n",
            "i1 = 1.5428571 A\n",
            "i2 = 2.0571429 A\n",
            "i3 = 3.6 A\n",
            "i4 = 1.6 A\n",
            "i5 = 2.0 A\n"
          ],
          "name": "stdout"
        }
      ]
    },
    {
      "cell_type": "code",
      "metadata": {
        "id": "ZAHOJCkO5jmF",
        "colab": {
          "base_uri": "https://localhost:8080/"
        },
        "outputId": "fcccd6a6-c186-4153-ce27-62a5c9e4c92f"
      },
      "source": [
        "!pip install pulp\n",
        "import pulp"
      ],
      "execution_count": null,
      "outputs": [
        {
          "output_type": "stream",
          "text": [
            "Collecting pulp\n",
            "\u001b[?25l  Downloading https://files.pythonhosted.org/packages/89/0c/6d80f5f81a92d1733cc5ca180491b8a3cd5839e335627a0046c81b7d3d3d/PuLP-2.3.1-py3-none-any.whl (40.6MB)\n",
            "\u001b[K     |████████████████████████████████| 40.6MB 103kB/s \n",
            "\u001b[?25hCollecting amply>=0.1.2\n",
            "  Downloading https://files.pythonhosted.org/packages/f3/c5/dfa09dd2595a2ab2ab4e6fa7bebef9565812722e1980d04b0edce5032066/amply-0.1.4-py3-none-any.whl\n",
            "Requirement already satisfied: docutils>=0.3 in /usr/local/lib/python3.6/dist-packages (from amply>=0.1.2->pulp) (0.16)\n",
            "Requirement already satisfied: pyparsing in /usr/local/lib/python3.6/dist-packages (from amply>=0.1.2->pulp) (2.4.7)\n",
            "Installing collected packages: amply, pulp\n",
            "Successfully installed amply-0.1.4 pulp-2.3.1\n"
          ],
          "name": "stdout"
        }
      ]
    }
  ]
}