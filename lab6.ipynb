{
  "nbformat": 4,
  "nbformat_minor": 0,
  "metadata": {
    "kernelspec": {
      "display_name": "Python 3",
      "language": "python",
      "name": "python3"
    },
    "language_info": {
      "codemirror_mode": {
        "name": "ipython",
        "version": 3
      },
      "file_extension": ".py",
      "mimetype": "text/x-python",
      "name": "python",
      "nbconvert_exporter": "python",
      "pygments_lexer": "ipython3",
      "version": "3.8.3"
    },
    "colab": {
      "name": "lab6.ipynb",
      "provenance": []
    }
  },
  "cells": [
    {
      "cell_type": "code",
      "metadata": {
        "colab": {
          "base_uri": "https://localhost:8080/"
        },
        "id": "feOe8uypRI76",
        "outputId": "7b9cf281-e35a-44bc-f3a9-f2f99adf50dc"
      },
      "source": [
        "!pip install pulp\r\n",
        "import pulp"
      ],
      "execution_count": 2,
      "outputs": [
        {
          "output_type": "stream",
          "text": [
            "Collecting pulp\n",
            "\u001b[?25l  Downloading https://files.pythonhosted.org/packages/14/c4/0eec14a0123209c261de6ff154ef3be5cad3fd557c084f468356662e0585/PuLP-2.4-py3-none-any.whl (40.6MB)\n",
            "\u001b[K     |████████████████████████████████| 40.6MB 108kB/s \n",
            "\u001b[?25hCollecting amply>=0.1.2\n",
            "  Downloading https://files.pythonhosted.org/packages/f3/c5/dfa09dd2595a2ab2ab4e6fa7bebef9565812722e1980d04b0edce5032066/amply-0.1.4-py3-none-any.whl\n",
            "Requirement already satisfied: pyparsing in /usr/local/lib/python3.6/dist-packages (from amply>=0.1.2->pulp) (2.4.7)\n",
            "Requirement already satisfied: docutils>=0.3 in /usr/local/lib/python3.6/dist-packages (from amply>=0.1.2->pulp) (0.16)\n",
            "Installing collected packages: amply, pulp\n",
            "Successfully installed amply-0.1.4 pulp-2.4\n"
          ],
          "name": "stdout"
        }
      ]
    },
    {
      "cell_type": "markdown",
      "metadata": {
        "id": "JNFEg_ZYn80R"
      },
      "source": [
        "**Zadanie**\r\n",
        "Planowanie grafiku pracowników\r\n",
        "\r\n",
        "Zależy zaplanować godziny zatrudnienia pracowników biorąć pod uwagę dostępność pracowników w określonych dniach oraz ich stawki. Celem zadania jest uzyskanie jak najmniejszego kosztu zatrudnienia pracowników."
      ]
    },
    {
      "cell_type": "code",
      "metadata": {
        "id": "EYmJ_NtfHfYR",
        "colab": {
          "base_uri": "https://localhost:8080/"
        },
        "outputId": "1cef5cf8-8bbc-4dc9-d5be-fc270fad52a4"
      },
      "source": [
        "from pulp import *\n",
        "import pandas as pd\n",
        "\n",
        "pracownicy = {\n",
        "    'ANIA':{'dni':['pn','wt','sr','czw','pt'],'placa': 100},\n",
        "    'STEFAN':{'dni':['pn'],'placa': 50},\n",
        "    'HEKTOR':{'dni':['pn','wt','sr'],'placa': 60},\n",
        "    'OLAF':{'dni':['pn','wt','sr','czw','pt'],'placa': 40},\n",
        "    'LIDIA':{'dni':['czw','pt'],'placa': 110},\n",
        "    'PIOTR':{'dni':['pn','wt','sr'],'placa': 70},\n",
        "}\n",
        "\n",
        "liczbaPracownikow = {\n",
        "    'pn': 2,\n",
        "    'wt': 1,\n",
        "    'sr': 1,\n",
        "    'czw': 1,\n",
        "    'pt': 3\n",
        "}\n",
        "tydzien = ['pn','wt','sr','czw','pt']\n",
        "\n",
        "vars = LpVariable.dicts('x', (pracownicy.keys(), tydzien),\n",
        "                            lowBound = 0,\n",
        "                            upBound = 1,\n",
        "                            cat = 'Integer')\n",
        "\n",
        "\n",
        "\n",
        "prob = LpProblem(\"Praca_Model\", LpMinimize)\n",
        "\n",
        "prob += 4*lpSum(pracownicy[pracownik]['placa']*lpSum(vars[pracownik][dzien] for dzien in tydzien) for pracownik in pracownicy)\n",
        "\n",
        "\n",
        "for pracownik in pracownicy:\n",
        "  temp = 0\n",
        "  for dzien in tydzien:\n",
        "    if dzien not in pracownicy[pracownik][\"dni\"]:\n",
        "      temp += vars[pracownik][dzien]\n",
        "  prob += temp == 0\n",
        "\n",
        "for dzien in tydzien:\n",
        "  prob += lpSum(vars[pracownik][dzien] for pracownik in pracownicy) >= liczbaPracownikow[dzien]\n",
        "\n",
        "for pracownik in pracownicy:\n",
        "  prob += lpSum(vars[pracownik][dzien] for dzien in tydzien) <= 3\n",
        "  prob += lpSum(vars[pracownik][dzien] for dzien in tydzien) >= 1\n",
        "\n",
        "prob.writeLP(\"schedule.lp\")\n",
        "prob.solve()\n",
        "\n",
        "print(\"Status:\", LpStatus[prob.status])\n",
        "print()\n",
        "print(\"Minimalna wartośc wypłat:\", value(prob.objective), \"PLN\",)\n",
        "\n"
      ],
      "execution_count": 3,
      "outputs": [
        {
          "output_type": "stream",
          "text": [
            "Status: Optimal\n",
            "\n",
            "Minimalna wartośc wypłat: 2040.0 PLN\n"
          ],
          "name": "stdout"
        }
      ]
    },
    {
      "cell_type": "code",
      "metadata": {
        "id": "QD6KIWwUHfYU"
      },
      "source": [
        ""
      ],
      "execution_count": null,
      "outputs": []
    },
    {
      "cell_type": "code",
      "metadata": {
        "id": "Z3AFiyIJHfYU"
      },
      "source": [
        ""
      ],
      "execution_count": null,
      "outputs": []
    },
    {
      "cell_type": "code",
      "metadata": {
        "id": "VLRlZIjzHfYU"
      },
      "source": [
        ""
      ],
      "execution_count": null,
      "outputs": []
    }
  ]
}