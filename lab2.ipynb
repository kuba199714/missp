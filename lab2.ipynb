{
  "nbformat": 4,
  "nbformat_minor": 0,
  "metadata": {
    "colab": {
      "name": "lab2",
      "provenance": []
    },
    "kernelspec": {
      "name": "python3",
      "display_name": "Python 3"
    }
  },
  "cells": [
    {
      "cell_type": "markdown",
      "metadata": {
        "id": "bMSRp3804Feh"
      },
      "source": [
        "**Zadanie**\r\n",
        "\r\n",
        "Stworz typ NumerTelefonu\r\n",
        "\r\n",
        "- przy tworzeniu sprawdza czy właściwy numer (Polski) jeśli nie pisze, że error (ew. Exception)\r\n",
        "\r\n",
        "- gdy printuję to mi pisze polskimi słowami i.e. \"jeden, pięć, siedem, zero\"\r\n",
        "\r\n",
        "- gdy wywołuję właściwość wojewodzwtwo, podaje mi wojewodztwo ew. ze to komorkowy"
      ]
    },
    {
      "cell_type": "code",
      "metadata": {
        "colab": {
          "base_uri": "https://localhost:8080/"
        },
        "id": "b9vP-ANt3zWB",
        "outputId": "3a8d6107-266e-4904-d39a-9ca4e94822e8"
      },
      "source": [
        "class NumerTelefonu():\r\n",
        "\r\n",
        "  def __init__(self,nr):\r\n",
        "      self.numer_telefonu = nr\r\n",
        "      if len(self.numer_telefonu) == 9:\r\n",
        "         print(\"Prawidlowy numer\")\r\n",
        "      else:\r\n",
        "         print(\"Nieprawidlowy numer\")\r\n",
        "         \r\n",
        "\r\n",
        "  def __repr__(self):\r\n",
        "      nr = []\r\n",
        "      cyfry = [\"zero\",\"jeden\",\"dwa\",\"trzy\",\"cztery\",\"pięć\",\"sześć\",\"siedem\",\"osiem\",\"dziewięć\"]\r\n",
        "      for cyfra in self.numer_telefonu:\r\n",
        "        nr.append(cyfry[int(cyfra)])\r\n",
        "      numer_slownie=nr[0]+\" \"+nr[1]+\" \"+nr[2]+\" \"+nr[3]+\" \"+nr[4]+\" \"+nr[5]+\" \"+nr[6]+\" \"+nr[7]+\" \"+nr[8]\r\n",
        "      return numer_slownie\r\n",
        "\r\n",
        "\r\n",
        "  def kierunek(self):\r\n",
        "      nr_kierunkowy = self.numer_telefonu[0]+self.numer_telefonu[1]\r\n",
        "      telefony_kierunkowe = {\"42\":\"Łódź\",\"46\":\"Łomża\",\"85\":\"Białystok\"}\r\n",
        "      if nr_kierunkowy in telefony_kierunkowe.keys():\r\n",
        "         wynik = telefony_kierunkowe[nr_kierunkowy]\r\n",
        "      else :\r\n",
        "         wynik = \"Komórkowy inny niż Łódź, Łomża, Białystok\"\r\n",
        "      return wynik\r\n",
        "  \r\n",
        "numer_podany = NumerTelefonu(\"853459789\")\r\n",
        "print (numer_podany.kierunek())\r\n",
        "print (numer_podany)"
      ],
      "execution_count": null,
      "outputs": [
        {
          "output_type": "stream",
          "text": [
            "Prawidlowy numer\n",
            "Białystok\n",
            "osiem pięć trzy cztery pięć dziewięć siedem osiem dziewięć\n"
          ],
          "name": "stdout"
        }
      ]
    }
  ]
}